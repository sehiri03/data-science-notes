{
 "cells": [
  {
   "cell_type": "code",
   "execution_count": null,
   "id": "0796f0ac-8dd9-470e-b7c8-7c01ea5b65dc",
   "metadata": {},
   "outputs": [],
   "source": [
    "#통계량 계산하기"
   ]
  },
  {
   "cell_type": "code",
   "execution_count": 1,
   "id": "68088b8b-5285-4fd0-97c9-210222c1606b",
   "metadata": {},
   "outputs": [],
   "source": [
    "import numpy as np"
   ]
  },
  {
   "cell_type": "code",
   "execution_count": 3,
   "id": "41c71840-21d2-458d-9918-6f83e9ee5f2e",
   "metadata": {},
   "outputs": [],
   "source": [
    "x = np.arange(10.0)"
   ]
  },
  {
   "cell_type": "code",
   "execution_count": 5,
   "id": "1302fc3c-57a0-43b3-900c-81cb99702546",
   "metadata": {},
   "outputs": [
    {
     "data": {
      "text/plain": [
       "np.float64(4.5)"
      ]
     },
     "execution_count": 5,
     "metadata": {},
     "output_type": "execute_result"
    }
   ],
   "source": [
    "x.mean()"
   ]
  },
  {
   "cell_type": "code",
   "execution_count": 6,
   "id": "5edb2c6a-51bd-4307-b372-d60436ebc3a6",
   "metadata": {},
   "outputs": [
    {
     "data": {
      "text/plain": [
       "array([ 7.5,  8.5,  9.5, 10.5, 11.5])"
      ]
     },
     "execution_count": 6,
     "metadata": {},
     "output_type": "execute_result"
    }
   ],
   "source": [
    "numbers=np.arange(20.0)\n",
    "x= np.reshape(numbers,(4,5))\n",
    "np.mean(x,0)"
   ]
  },
  {
   "cell_type": "code",
   "execution_count": 7,
   "id": "3c63d032-e521-426a-b9ab-8a75269a904b",
   "metadata": {},
   "outputs": [
    {
     "data": {
      "text/plain": [
       "np.float64(5.766281297335398)"
      ]
     },
     "execution_count": 7,
     "metadata": {},
     "output_type": "execute_result"
    }
   ],
   "source": [
    "np.std(x)"
   ]
  },
  {
   "cell_type": "code",
   "execution_count": 8,
   "id": "c0ee0a71-61bb-4684-9f6b-da63087f76ef",
   "metadata": {},
   "outputs": [
    {
     "data": {
      "text/plain": [
       "np.float64(33.25)"
      ]
     },
     "execution_count": 8,
     "metadata": {},
     "output_type": "execute_result"
    }
   ],
   "source": [
    "np.var(x)"
   ]
  },
  {
   "cell_type": "code",
   "execution_count": 9,
   "id": "1c8f3bbf-767e-4228-bc3d-dc18a47106e7",
   "metadata": {},
   "outputs": [],
   "source": [
    "x= np.random.randn(3, 4)"
   ]
  },
  {
   "cell_type": "code",
   "execution_count": 10,
   "id": "f5e576aa-2182-492a-965b-da36a01f9667",
   "metadata": {},
   "outputs": [
    {
     "data": {
      "text/plain": [
       "array([[1.        , 0.03428488, 0.05625602],\n",
       "       [0.03428488, 1.        , 0.56747099],\n",
       "       [0.05625602, 0.56747099, 1.        ]])"
      ]
     },
     "execution_count": 10,
     "metadata": {},
     "output_type": "execute_result"
    }
   ],
   "source": [
    "np.corrcoef(x)"
   ]
  },
  {
   "cell_type": "code",
   "execution_count": 12,
   "id": "4e5dc9ef-e911-4800-96d4-e8874169b656",
   "metadata": {},
   "outputs": [
    {
     "data": {
      "text/plain": [
       "array([[1.        , 0.03428488],\n",
       "       [0.03428488, 1.        ]])"
      ]
     },
     "execution_count": 12,
     "metadata": {},
     "output_type": "execute_result"
    }
   ],
   "source": [
    "np.corrcoef(x[0],x[1])"
   ]
  },
  {
   "cell_type": "code",
   "execution_count": 13,
   "id": "6b024ada-dfe7-4f4e-bfa9-0ef5dc6af9ff",
   "metadata": {},
   "outputs": [
    {
     "data": {
      "text/plain": [
       "array([[ 0.43608359,  0.40012341,  0.28088973, -0.43440328],\n",
       "       [ 0.40012341,  0.74316117, -0.06271831, -0.57911976],\n",
       "       [ 0.28088973, -0.06271831,  0.45400183, -0.12595744],\n",
       "       [-0.43440328, -0.57911976, -0.12595744,  0.51940811]])"
      ]
     },
     "execution_count": 13,
     "metadata": {},
     "output_type": "execute_result"
    }
   ],
   "source": [
    "np.cov(x, rowvar=False)"
   ]
  },
  {
   "cell_type": "code",
   "execution_count": 14,
   "id": "2b81346f-d681-4e76-82be-8546458a0023",
   "metadata": {},
   "outputs": [
    {
     "data": {
      "text/plain": [
       "array([[0.6803525 , 0.03109811, 0.03221523],\n",
       "       [0.03109811, 1.20928566, 0.43324482],\n",
       "       [0.03221523, 0.43324482, 0.48200387]])"
      ]
     },
     "execution_count": 14,
     "metadata": {},
     "output_type": "execute_result"
    }
   ],
   "source": [
    "np.cov(x, rowvar=True)"
   ]
  },
  {
   "cell_type": "code",
   "execution_count": 15,
   "id": "d4482072-655e-40c9-a8a0-ca9096c94ab0",
   "metadata": {},
   "outputs": [],
   "source": [
    "# 다양한 확률 분포 사용하기"
   ]
  },
  {
   "cell_type": "code",
   "execution_count": 16,
   "id": "ed036418-b807-41f9-8601-ff8c823bc43d",
   "metadata": {},
   "outputs": [
    {
     "data": {
      "text/plain": [
       "array([5, 6, 5, 5, 5, 6, 5, 7, 8, 5])"
      ]
     },
     "execution_count": 16,
     "metadata": {},
     "output_type": "execute_result"
    }
   ],
   "source": [
    "from scipy import stats\n",
    "np.random.seed(0)\n",
    "stats.binom(10, 0.5).rvs(10)"
   ]
  },
  {
   "cell_type": "code",
   "execution_count": 17,
   "id": "666b35a3-2d52-43ae-b685-eb9368e084bf",
   "metadata": {},
   "outputs": [
    {
     "data": {
      "text/plain": [
       "array([ 0.14404357,  1.45427351,  0.76103773,  0.12167502,  0.44386323,\n",
       "        0.33367433,  1.49407907, -0.20515826,  0.3130677 , -0.85409574])"
      ]
     },
     "execution_count": 17,
     "metadata": {},
     "output_type": "execute_result"
    }
   ],
   "source": [
    "stats.norm().rvs(10)"
   ]
  },
  {
   "cell_type": "code",
   "execution_count": 18,
   "id": "171e66a4-dfe7-42fa-b114-4afd3d4fed54",
   "metadata": {},
   "outputs": [
    {
     "data": {
      "text/plain": [
       "array([0.14335329, 0.94466892, 0.52184832, 0.41466194, 0.26455561,\n",
       "       0.77423369, 0.45615033, 0.56843395, 0.0187898 , 0.6176355 ])"
      ]
     },
     "execution_count": 18,
     "metadata": {},
     "output_type": "execute_result"
    }
   ],
   "source": [
    "stats.uniform().rvs(10)"
   ]
  },
  {
   "cell_type": "code",
   "execution_count": 19,
   "id": "c7958fff-5f7a-41c1-a296-add99e8bec3f",
   "metadata": {},
   "outputs": [
    {
     "data": {
      "text/plain": [
       "array([1.89399336, 1.91909595, 5.75583016, 2.29027792, 0.89103699,\n",
       "       1.14906482, 2.3922156 , 0.12423059, 2.19782496, 2.22119487])"
      ]
     },
     "execution_count": 19,
     "metadata": {},
     "output_type": "execute_result"
    }
   ],
   "source": [
    "stats.chi2(df=2).rvs(10)"
   ]
  },
  {
   "cell_type": "code",
   "execution_count": 23,
   "id": "98eb0197-f379-4f95-a3d6-c1debcaeeb1c",
   "metadata": {},
   "outputs": [
    {
     "name": "stdout",
     "output_type": "stream",
     "text": [
      "0.19495530172822773\n"
     ]
    }
   ],
   "source": [
    "# 정규성 검정\n",
    "x = stats.uniform().rvs(20)\n",
    "k2, p = stats.normaltest(x)\n",
    "print(p)"
   ]
  },
  {
   "cell_type": "code",
   "execution_count": 24,
   "id": "7f29be9d-9717-4133-a2ac-db92e947ecdc",
   "metadata": {},
   "outputs": [
    {
     "data": {
      "text/plain": [
       "Power_divergenceResult(statistic=np.float64(17.799999999999997), pvalue=np.float64(0.003207792034605282))"
      ]
     },
     "execution_count": 24,
     "metadata": {},
     "output_type": "execute_result"
    }
   ],
   "source": [
    "# 카이제곱 검정하기\n",
    "import scipy as sp\n",
    "n = np.array([1, 2, 4, 1, 2, 10])\n",
    "sp.stats.chisquare(n)"
   ]
  },
  {
   "cell_type": "code",
   "execution_count": 26,
   "id": "cdd06eec-8126-499c-950e-2b7d65a08c93",
   "metadata": {},
   "outputs": [
    {
     "data": {
      "text/plain": [
       "(np.float64(0.7380231707288347), np.float64(1.400646015162435))"
      ]
     },
     "execution_count": 26,
     "metadata": {},
     "output_type": "execute_result"
    }
   ],
   "source": [
    "# t 검정하기\n",
    "np.random.seed(0)\n",
    "x1 = stats.norm(0, 1).rvs(10)\n",
    "x2 = stats.norm(1, 1).rvs(10)\n",
    "np.mean(x1), np.mean(x2)"
   ]
  },
  {
   "cell_type": "code",
   "execution_count": 27,
   "id": "c1c82f9e-7fc3-4d97-85f3-9d2d40e9c271",
   "metadata": {},
   "outputs": [
    {
     "data": {
      "text/plain": [
       "TtestResult(statistic=np.float64(-1.6868710732328158), pvalue=np.float64(0.10888146383913824), df=np.float64(18.0))"
      ]
     },
     "execution_count": 27,
     "metadata": {},
     "output_type": "execute_result"
    }
   ],
   "source": [
    "stats.ttest_ind(x1, x2)"
   ]
  },
  {
   "cell_type": "code",
   "execution_count": 29,
   "id": "41ee799f-5878-43b3-bdac-0506445db337",
   "metadata": {},
   "outputs": [
    {
     "data": {
      "text/plain": [
       "TtestResult(statistic=np.float64(-1.645589439006556), pvalue=np.float64(0.11820970284545887), df=np.int64(17))"
      ]
     },
     "execution_count": 29,
     "metadata": {},
     "output_type": "execute_result"
    }
   ],
   "source": [
    "#쌍체 t 검정하기\n",
    "before = [68, 56, 57, 54, 54, 48, 64, 68, 66, 51, 56, 61, 58, 55, 64, 70, 60, 62]\n",
    "after  = [65, 57, 57, 54, 64, 67, 64, 67, 64, 56, 60, 60, 59, 54, 65, 71, 61, 63]\n",
    "# 귀무 가설 : 처치 전후로 통증의 차이가 없다.\n",
    "# 대립 가설 : 처치 전후의 통증 차이가 있다.\n",
    "stats.ttest_rel(before, after)"
   ]
  },
  {
   "cell_type": "code",
   "execution_count": 31,
   "id": "074c2b0e-ebb9-4d84-89f8-d609d0f531b0",
   "metadata": {},
   "outputs": [
    {
     "data": {
      "text/plain": [
       "TtestResult(statistic=np.float64(-7.961865632364446), pvalue=np.float64(0.001348170975769803), df=np.int64(4))"
      ]
     },
     "execution_count": 31,
     "metadata": {},
     "output_type": "execute_result"
    }
   ],
   "source": [
    "# 쌍체 t 검정하기 2 (광고실험)\n",
    "before = [2, 3, 2, 3, 2]\n",
    "after  = [9, 8, 9, 7, 6]\n",
    "#귀무가설:광고 전후로 선호도 차이가 없다.\n",
    "#대립가설:광고 전후의 선호도 차이가 있다.\n",
    "stats.ttest_rel(before, after)"
   ]
  },
  {
   "cell_type": "code",
   "execution_count": null,
   "id": "19ec81c0-dfd9-4685-97a6-43a7ce89e444",
   "metadata": {},
   "outputs": [],
   "source": []
  },
  {
   "cell_type": "code",
   "execution_count": null,
   "id": "e4cb3685-8a66-4fa2-860b-5d4c9f513313",
   "metadata": {},
   "outputs": [],
   "source": []
  },
  {
   "cell_type": "code",
   "execution_count": null,
   "id": "dbf0d39f-facb-4e72-be10-cb559db66184",
   "metadata": {},
   "outputs": [],
   "source": []
  },
  {
   "cell_type": "code",
   "execution_count": null,
   "id": "3f719c79-65ce-4106-93c7-bc92432c762f",
   "metadata": {},
   "outputs": [],
   "source": []
  },
  {
   "cell_type": "code",
   "execution_count": null,
   "id": "7a007e8d-f4ba-48ff-b0fd-98f28ccfb8fe",
   "metadata": {},
   "outputs": [],
   "source": []
  },
  {
   "cell_type": "code",
   "execution_count": null,
   "id": "1f1e380b-12d4-49b5-9d29-75bfcfe37cba",
   "metadata": {},
   "outputs": [],
   "source": []
  },
  {
   "cell_type": "code",
   "execution_count": null,
   "id": "d7b1ca45-a460-41d6-868c-37aafdccf41f",
   "metadata": {},
   "outputs": [],
   "source": []
  },
  {
   "cell_type": "code",
   "execution_count": null,
   "id": "cdde60f2-cad5-4655-bd12-752ac6de6140",
   "metadata": {},
   "outputs": [],
   "source": []
  }
 ],
 "metadata": {
  "kernelspec": {
   "display_name": "Python 3 (ipykernel)",
   "language": "python",
   "name": "python3"
  },
  "language_info": {
   "codemirror_mode": {
    "name": "ipython",
    "version": 3
   },
   "file_extension": ".py",
   "mimetype": "text/x-python",
   "name": "python",
   "nbconvert_exporter": "python",
   "pygments_lexer": "ipython3",
   "version": "3.13.4"
  }
 },
 "nbformat": 4,
 "nbformat_minor": 5
}
